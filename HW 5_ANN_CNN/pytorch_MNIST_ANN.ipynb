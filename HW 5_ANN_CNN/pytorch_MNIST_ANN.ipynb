{
  "nbformat": 4,
  "nbformat_minor": 0,
  "metadata": {
    "colab": {
      "provenance": []
    },
    "kernelspec": {
      "name": "python3",
      "display_name": "Python 3"
    },
    "language_info": {
      "name": "python"
    }
  },
  "cells": [
    {
      "cell_type": "code",
      "execution_count": null,
      "metadata": {
        "id": "jJ4m1sHVep8E"
      },
      "outputs": [],
      "source": [
        "import torch\n",
        "import torch.nn as nn\n",
        "import torch.nn.functional as F"
      ]
    },
    {
      "cell_type": "code",
      "source": [
        "from torch.utils.data import DataLoader\n",
        "from torchvision import datasets, transforms"
      ],
      "metadata": {
        "id": "Yz8Q94GL-znf"
      },
      "execution_count": null,
      "outputs": []
    },
    {
      "cell_type": "code",
      "source": [
        "import numpy as np\n",
        "import pandas as pd\n",
        "from sklearn.metrics import confusion_matrix\n",
        "import matplotlib.pyplot as plt\n",
        "%matplotlib inline"
      ],
      "metadata": {
        "id": "I-_Sm-2__Hmo"
      },
      "execution_count": null,
      "outputs": []
    },
    {
      "cell_type": "code",
      "source": [
        "transfrom=transforms.ToTensor()\n",
        "train_data=datasets.MNIST(root='../Data',train=True,download=True,transform=transfrom)\n",
        "test_data=datasets.MNIST(root='../Data',train=False,download=True,transform=transfrom)"
      ],
      "metadata": {
        "id": "jVUy75Y3Bd-4",
        "colab": {
          "base_uri": "https://localhost:8080/"
        },
        "outputId": "95fcbe8e-9162-4e9b-b739-e80f16fe54a0"
      },
      "execution_count": null,
      "outputs": [
        {
          "output_type": "stream",
          "name": "stdout",
          "text": [
            "Downloading http://yann.lecun.com/exdb/mnist/train-images-idx3-ubyte.gz\n",
            "Downloading http://yann.lecun.com/exdb/mnist/train-images-idx3-ubyte.gz to ../Data/MNIST/raw/train-images-idx3-ubyte.gz\n"
          ]
        },
        {
          "output_type": "stream",
          "name": "stderr",
          "text": [
            "100%|██████████| 9912422/9912422 [00:00<00:00, 143057687.46it/s]"
          ]
        },
        {
          "output_type": "stream",
          "name": "stdout",
          "text": [
            "Extracting ../Data/MNIST/raw/train-images-idx3-ubyte.gz to ../Data/MNIST/raw\n"
          ]
        },
        {
          "output_type": "stream",
          "name": "stderr",
          "text": [
            "\n"
          ]
        },
        {
          "output_type": "stream",
          "name": "stdout",
          "text": [
            "\n",
            "Downloading http://yann.lecun.com/exdb/mnist/train-labels-idx1-ubyte.gz\n",
            "Downloading http://yann.lecun.com/exdb/mnist/train-labels-idx1-ubyte.gz to ../Data/MNIST/raw/train-labels-idx1-ubyte.gz\n"
          ]
        },
        {
          "output_type": "stream",
          "name": "stderr",
          "text": [
            "100%|██████████| 28881/28881 [00:00<00:00, 41598795.96it/s]\n"
          ]
        },
        {
          "output_type": "stream",
          "name": "stdout",
          "text": [
            "Extracting ../Data/MNIST/raw/train-labels-idx1-ubyte.gz to ../Data/MNIST/raw\n",
            "\n",
            "Downloading http://yann.lecun.com/exdb/mnist/t10k-images-idx3-ubyte.gz\n",
            "Downloading http://yann.lecun.com/exdb/mnist/t10k-images-idx3-ubyte.gz to ../Data/MNIST/raw/t10k-images-idx3-ubyte.gz\n"
          ]
        },
        {
          "output_type": "stream",
          "name": "stderr",
          "text": [
            "100%|██████████| 1648877/1648877 [00:00<00:00, 33518431.05it/s]"
          ]
        },
        {
          "output_type": "stream",
          "name": "stdout",
          "text": [
            "Extracting ../Data/MNIST/raw/t10k-images-idx3-ubyte.gz to ../Data/MNIST/raw\n"
          ]
        },
        {
          "output_type": "stream",
          "name": "stderr",
          "text": [
            "\n"
          ]
        },
        {
          "output_type": "stream",
          "name": "stdout",
          "text": [
            "\n",
            "Downloading http://yann.lecun.com/exdb/mnist/t10k-labels-idx1-ubyte.gz\n",
            "Downloading http://yann.lecun.com/exdb/mnist/t10k-labels-idx1-ubyte.gz to ../Data/MNIST/raw/t10k-labels-idx1-ubyte.gz\n"
          ]
        },
        {
          "output_type": "stream",
          "name": "stderr",
          "text": [
            "100%|██████████| 4542/4542 [00:00<00:00, 3829252.01it/s]\n"
          ]
        },
        {
          "output_type": "stream",
          "name": "stdout",
          "text": [
            "Extracting ../Data/MNIST/raw/t10k-labels-idx1-ubyte.gz to ../Data/MNIST/raw\n",
            "\n"
          ]
        }
      ]
    },
    {
      "cell_type": "code",
      "source": [
        "train_data"
      ],
      "metadata": {
        "colab": {
          "base_uri": "https://localhost:8080/"
        },
        "id": "hy4jBaPgCNXK",
        "outputId": "cfe8d30d-b529-4ccf-f415-482ca9b557b5"
      },
      "execution_count": null,
      "outputs": [
        {
          "output_type": "execute_result",
          "data": {
            "text/plain": [
              "Dataset MNIST\n",
              "    Number of datapoints: 60000\n",
              "    Root location: ../Data\n",
              "    Split: Train\n",
              "    StandardTransform\n",
              "Transform: ToTensor()"
            ]
          },
          "metadata": {},
          "execution_count": 5
        }
      ]
    },
    {
      "cell_type": "code",
      "source": [
        "type(train_data)"
      ],
      "metadata": {
        "colab": {
          "base_uri": "https://localhost:8080/"
        },
        "id": "i-5l0j8TCbQr",
        "outputId": "59843bd5-bd19-4346-a60e-a26a4a5cb960"
      },
      "execution_count": null,
      "outputs": [
        {
          "output_type": "execute_result",
          "data": {
            "text/plain": [
              "torchvision.datasets.mnist.MNIST"
            ]
          },
          "metadata": {},
          "execution_count": 6
        }
      ]
    },
    {
      "cell_type": "code",
      "source": [
        "train_data[0]"
      ],
      "metadata": {
        "id": "RLUSjzR4Ceys"
      },
      "execution_count": null,
      "outputs": []
    },
    {
      "cell_type": "code",
      "source": [],
      "metadata": {
        "id": "k004Oj76CjvB"
      },
      "execution_count": null,
      "outputs": []
    },
    {
      "cell_type": "code",
      "source": [
        "image, label=train_data[0]\n"
      ],
      "metadata": {
        "id": "xVVSvx96CpS_"
      },
      "execution_count": null,
      "outputs": []
    },
    {
      "cell_type": "code",
      "source": [
        "image.shape"
      ],
      "metadata": {
        "colab": {
          "base_uri": "https://localhost:8080/"
        },
        "id": "HU0Xcw9hCwE2",
        "outputId": "9551652f-b1b5-4b76-b3ac-6181926ee3fc"
      },
      "execution_count": null,
      "outputs": [
        {
          "output_type": "execute_result",
          "data": {
            "text/plain": [
              "torch.Size([1, 28, 28])"
            ]
          },
          "metadata": {},
          "execution_count": 9
        }
      ]
    },
    {
      "cell_type": "code",
      "source": [
        "label"
      ],
      "metadata": {
        "colab": {
          "base_uri": "https://localhost:8080/"
        },
        "id": "pPzN_IbaCzNa",
        "outputId": "7e9ea88e-1209-41c3-8828-3acf6746e413"
      },
      "execution_count": null,
      "outputs": [
        {
          "output_type": "execute_result",
          "data": {
            "text/plain": [
              "5"
            ]
          },
          "metadata": {},
          "execution_count": 10
        }
      ]
    },
    {
      "cell_type": "code",
      "source": [
        "plt.imshow(image.reshape((28,28)),cmap='gist_yarg')"
      ],
      "metadata": {
        "colab": {
          "base_uri": "https://localhost:8080/",
          "height": 448
        },
        "id": "7r_o7f36C2T4",
        "outputId": "3cd8a02b-19e4-4b59-8938-0c1bd114a60d"
      },
      "execution_count": null,
      "outputs": [
        {
          "output_type": "execute_result",
          "data": {
            "text/plain": [
              "<matplotlib.image.AxesImage at 0x7e0f05f8fc40>"
            ]
          },
          "metadata": {},
          "execution_count": 11
        },
        {
          "output_type": "display_data",
          "data": {
            "text/plain": [
              "<Figure size 640x480 with 1 Axes>"
            ],
            "image/png": "[encoded data removed]"
          },
          "metadata": {}
        }
      ]
    },
    {
      "cell_type": "code",
      "source": [
        "torch.manual_seed(101)\n",
        "\n",
        "train_loader=DataLoader(train_data,batch_size=100,shuffle=True)\n",
        "test_loader=DataLoader(test_data,batch_size=500,shuffle=False)\n"
      ],
      "metadata": {
        "id": "CIeDmQtCelm3"
      },
      "execution_count": null,
      "outputs": []
    },
    {
      "cell_type": "code",
      "source": [
        "from torchvision.utils import make_grid\n",
        "np.set_printoptions(formatter=dict(int=lambda x: f'{x:4}'))"
      ],
      "metadata": {
        "id": "ak3A5au1gDMU"
      },
      "execution_count": null,
      "outputs": []
    },
    {
      "cell_type": "code",
      "source": [
        "for images,labels in train_loader:\n",
        "  break"
      ],
      "metadata": {
        "id": "aHK_oLffggUw"
      },
      "execution_count": null,
      "outputs": []
    },
    {
      "cell_type": "code",
      "source": [
        "print('Labels: ',labels[:12].numpy())\n",
        "\n",
        "im=make_grid(images[:12],nrow=12)\n",
        "plt.figure(figsize=(10,4))\n",
        "\n",
        "plt.imshow(np.transpose(im.numpy(),(1,2,0)))"
      ],
      "metadata": {
        "colab": {
          "base_uri": "https://localhost:8080/",
          "height": 169
        },
        "id": "ctuiCMSwg9XO",
        "outputId": "14493985-d7d6-4417-a6bd-e3329062ea9a"
      },
      "execution_count": null,
      "outputs": [
        {
          "output_type": "stream",
          "name": "stdout",
          "text": [
            "Labels:  [   7    2    3    5    8    5    3    6    9    9    1    3]\n"
          ]
        },
        {
          "output_type": "execute_result",
          "data": {
            "text/plain": [
              "<matplotlib.image.AxesImage at 0x7e0f031d4490>"
            ]
          },
          "metadata": {},
          "execution_count": 15
        },
        {
          "output_type": "display_data",
          "data": {
            "text/plain": [
              "<Figure size 1000x400 with 1 Axes>"
            ],
            "image/png": "[encoded data removed]"
          },
          "metadata": {}
        }
      ]
    },
    {
      "cell_type": "code",
      "source": [
        "class MultilayerPerceptron(nn.Module):\n",
        "  def __init__(self,in_sz=784,out_sz=10,layers=[120,84]):\n",
        "\n",
        "    super().__init__()\n",
        "\n",
        "    self.fc1=nn.Linear(in_sz,layers[0])\n",
        "    self.fc2=nn.Linear(layers[0],layers[1])\n",
        "    self.fc3=nn.Linear(layers[1],out_sz)\n",
        "\n",
        "  def forward(self,X):\n",
        "\n",
        "    X = F.relu(self.fc1(X))\n",
        "    X = F.relu(self.fc2(X))\n",
        "    X = self.fc3(X)\n",
        "\n",
        "    return F.log_softmax(X,dim=1)\n",
        "\n"
      ],
      "metadata": {
        "id": "ecHhcXiYsvE5"
      },
      "execution_count": null,
      "outputs": []
    },
    {
      "cell_type": "code",
      "source": [
        "torch.manual_seed(101)\n",
        "\n",
        "model = MultilayerPerceptron()\n",
        "model"
      ],
      "metadata": {
        "colab": {
          "base_uri": "https://localhost:8080/"
        },
        "id": "TO1ompvMuPWg",
        "outputId": "6c67b4e2-6f5d-4ccc-94e4-9dc973f53813"
      },
      "execution_count": null,
      "outputs": [
        {
          "output_type": "execute_result",
          "data": {
            "text/plain": [
              "MultilayerPerceptron(\n",
              "  (fc1): Linear(in_features=784, out_features=120, bias=True)\n",
              "  (fc2): Linear(in_features=120, out_features=84, bias=True)\n",
              "  (fc3): Linear(in_features=84, out_features=10, bias=True)\n",
              ")"
            ]
          },
          "metadata": {},
          "execution_count": 19
        }
      ]
    },
    {
      "cell_type": "code",
      "source": [
        "criterion=nn.CrossEntropyLoss()\n",
        "optimizer=torch.optim.Adam(model.parameters(),lr=0.01)"
      ],
      "metadata": {
        "id": "geJd_OBRwtKt"
      },
      "execution_count": null,
      "outputs": []
    },
    {
      "cell_type": "code",
      "source": [
        "images.view(100,-1).shape"
      ],
      "metadata": {
        "colab": {
          "base_uri": "https://localhost:8080/"
        },
        "id": "KeO5CQTExGa4",
        "outputId": "2f433c23-ac3b-4cbb-df2b-2ff1689554ed"
      },
      "execution_count": null,
      "outputs": [
        {
          "output_type": "execute_result",
          "data": {
            "text/plain": [
              "torch.Size([100, 784])"
            ]
          },
          "metadata": {},
          "execution_count": 22
        }
      ]
    },
    {
      "cell_type": "code",
      "source": [
        "import time\n",
        "start_time = time.time()\n",
        "\n",
        "epochs=10\n",
        "\n",
        "train_losses=[]\n",
        "test_losses=[]\n",
        "train_correct=[]\n",
        "test_correct=[]\n",
        "\n",
        "for i in range(epochs):\n",
        "  trn_corr=0\n",
        "  tst_corr=0\n",
        "\n",
        "  for b,(X_train,y_train) in enumerate(train_loader):\n",
        "    # passing to the model and calculate loss\n",
        "    b += 1\n",
        "    y_pred=model(X_train.view(100,-1))\n",
        "    loss=criterion(y_pred,y_train)\n",
        "\n",
        "    predicted =torch.max(y_pred.data,1)[1]\n",
        "    batch_corr=(predicted==y_train).sum()\n",
        "    trn_corr += batch_corr\n",
        "\n",
        "    optimizer.zero_grad()\n",
        "    loss.backward()\n",
        "    optimizer.step()\n",
        "\n",
        "    if b%200 ==0:\n",
        "      acc=trn_corr.item()*100/(100*b)\n",
        "      print(f'Epoch {i} batch{b} loss:{loss.item()} accuracy:{acc}')\n",
        "  train_losses.append(loss)\n",
        "  train_correct.append(trn_corr)\n",
        "\n",
        "  with torch.no_grad():\n",
        "    for b,(X_test,y_test) in enumerate(test_loader):\n",
        "      y_val=model(X_test.view(500,-1))\n",
        "\n",
        "      predicted=torch.max(y_val.data,1)[1]\n",
        "      tst_corr += (predicted==y_test).sum()\n",
        "  loss=criterion(y_val,y_test)\n",
        "  test_losses.append(loss)\n",
        "  test_correct.append(tst_corr)\n",
        "\n",
        "\n",
        "total_time=time.time()-start_time\n",
        "print(f'Duration: {total_time/60} mins')"
      ],
      "metadata": {
        "colab": {
          "base_uri": "https://localhost:8080/"
        },
        "id": "FqhqLput1K-c",
        "outputId": "a44a79d8-132c-4cc4-a505-d35ff6e7bdf0"
      },
      "execution_count": null,
      "outputs": [
        {
          "output_type": "stream",
          "name": "stdout",
          "text": [
            "Epoch 0 batch200 loss:0.17374129593372345 accuracy:96.07\n",
            "Epoch 0 batch400 loss:0.05462674796581268 accuracy:96.22\n",
            "Epoch 0 batch600 loss:0.14082524180412292 accuracy:96.26166666666667\n",
            "Epoch 1 batch200 loss:0.2053317278623581 accuracy:96.79\n",
            "Epoch 1 batch400 loss:0.15751396119594574 accuracy:96.77\n",
            "Epoch 1 batch600 loss:0.09102818369865417 accuracy:96.77\n",
            "Epoch 2 batch200 loss:0.2504822015762329 accuracy:97.41\n",
            "Epoch 2 batch400 loss:0.03461365029215813 accuracy:97.265\n",
            "Epoch 2 batch600 loss:0.040836263447999954 accuracy:97.18333333333334\n",
            "Epoch 3 batch200 loss:0.15014827251434326 accuracy:97.6\n",
            "Epoch 3 batch400 loss:0.10345672816038132 accuracy:97.5\n",
            "Epoch 3 batch600 loss:0.08916428685188293 accuracy:97.36666666666666\n",
            "Epoch 4 batch200 loss:0.058919187635183334 accuracy:97.685\n",
            "Epoch 4 batch400 loss:0.03352775424718857 accuracy:97.71\n",
            "Epoch 4 batch600 loss:0.07446208596229553 accuracy:97.68166666666667\n",
            "Epoch 5 batch200 loss:0.04134879261255264 accuracy:97.765\n",
            "Epoch 5 batch400 loss:0.0008894738275557756 accuracy:97.7975\n",
            "Epoch 5 batch600 loss:0.05872884765267372 accuracy:97.76\n",
            "Epoch 6 batch200 loss:0.02580665424466133 accuracy:98.085\n",
            "Epoch 6 batch400 loss:0.047330185770988464 accuracy:98.015\n",
            "Epoch 6 batch600 loss:0.03884567320346832 accuracy:97.88166666666666\n",
            "Epoch 7 batch200 loss:0.015096352435648441 accuracy:98.04\n",
            "Epoch 7 batch400 loss:0.10956036299467087 accuracy:98.03\n",
            "Epoch 7 batch600 loss:0.298427015542984 accuracy:98.02333333333333\n",
            "Epoch 8 batch200 loss:0.04148956760764122 accuracy:98.375\n",
            "Epoch 8 batch400 loss:0.06381990760564804 accuracy:98.1975\n",
            "Epoch 8 batch600 loss:0.07699073851108551 accuracy:98.15166666666667\n",
            "Epoch 9 batch200 loss:0.04429526627063751 accuracy:98.565\n",
            "Epoch 9 batch400 loss:0.034255895763635635 accuracy:98.4775\n",
            "Epoch 9 batch600 loss:0.17968465387821198 accuracy:98.34\n",
            "Duration: 1.4082907636960347 mins\n"
          ]
        }
      ]
    }
  ]
}