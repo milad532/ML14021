{
  "nbformat": 4,
  "nbformat_minor": 0,
  "metadata": {
    "colab": {
      "provenance": []
    },
    "kernelspec": {
      "name": "python3",
      "display_name": "Python 3"
    },
    "language_info": {
      "name": "python"
    }
  },
  "cells": [
    {
      "cell_type": "code",
      "execution_count": 1,
      "metadata": {
        "colab": {
          "base_uri": "https://localhost:8080/"
        },
        "id": "jzr3EvoeLXVZ",
        "outputId": "db00542c-7973-413b-cb7a-78cb8d5e8627"
      },
      "outputs": [
        {
          "output_type": "execute_result",
          "data": {
            "text/plain": [
              "<torch._C.Generator at 0x78f9a0171430>"
            ]
          },
          "metadata": {},
          "execution_count": 1
        }
      ],
      "source": [
        "import torch\n",
        "import torch.nn as nn\n",
        "import torch.optim as optim\n",
        "import torchvision\n",
        "from torchvision import transforms\n",
        "from torch.utils.data import DataLoader\n",
        "from sklearn.model_selection import train_test_split\n",
        "\n",
        "# Set random seed for reproducibility\n",
        "torch.manual_seed(42)"
      ]
    },
    {
      "cell_type": "code",
      "source": [
        "class Autoencoder(nn.Module):\n",
        "    def __init__(self, input_dim, bottleneck_dim):\n",
        "        super(Autoencoder, self).__init__()\n",
        "        self.encoder = nn.Sequential(\n",
        "            nn.Linear(input_dim, 128),\n",
        "            nn.ReLU(),\n",
        "            nn.Linear(128, 64),\n",
        "            nn.ReLU(),\n",
        "            nn.Linear(64, bottleneck_dim),\n",
        "        )\n",
        "        self.decoder = nn.Sequential(\n",
        "            nn.Linear(bottleneck_dim, 64),\n",
        "            nn.ReLU(),\n",
        "            nn.Linear(64, 128),\n",
        "            nn.ReLU(),\n",
        "            nn.Linear(128, input_dim),\n",
        "            nn.Sigmoid()  # Sigmoid activation for output in [0, 1]\n",
        "        )\n",
        "\n",
        "    def forward(self, x):\n",
        "        encoded = self.encoder(x)\n",
        "        decoded = self.decoder(encoded)\n",
        "        return decoded\n"
      ],
      "metadata": {
        "id": "wZfUaFVDLi_6"
      },
      "execution_count": 2,
      "outputs": []
    },
    {
      "cell_type": "code",
      "source": [
        "class Classifier(nn.Module):\n",
        "    def __init__(self, input_dim, output_dim):\n",
        "        super(Classifier, self).__init__()\n",
        "        self.feature_extractor = encoder_for_transfer\n",
        "        self.classifier_layer = nn.Linear(bottleneck_dim, output_dim)\n",
        "\n",
        "    def forward(self, x):\n",
        "        features = self.feature_extractor(x)\n",
        "        output = self.classifier_layer(features)\n",
        "        return output"
      ],
      "metadata": {
        "id": "r_Tsrv1dNHDm"
      },
      "execution_count": 6,
      "outputs": []
    },
    {
      "cell_type": "code",
      "source": [
        "# Load MNIST dataset\n",
        "transform = transforms.Compose([transforms.ToTensor(), transforms.Normalize((0.5,), (0.5,))])\n",
        "mnist_dataset = torchvision.datasets.MNIST(root='./data', train=True, download=True, transform=transform)\n",
        "mnist_loader = DataLoader(mnist_dataset, batch_size=64, shuffle=True)\n",
        "\n",
        "# Split the dataset into training and validation sets\n",
        "train_data, val_data = train_test_split(mnist_dataset, test_size=0.1, random_state=42)\n",
        "train_loader = DataLoader(train_data, batch_size=64, shuffle=True)\n",
        "val_loader = DataLoader(val_data, batch_size=64, shuffle=False)"
      ],
      "metadata": {
        "colab": {
          "base_uri": "https://localhost:8080/"
        },
        "id": "zb-qgMQgLq4i",
        "outputId": "67798efd-c3cb-4ec0-9d3b-1f0a16300ac7"
      },
      "execution_count": 3,
      "outputs": [
        {
          "output_type": "stream",
          "name": "stdout",
          "text": [
            "Downloading http://yann.lecun.com/exdb/mnist/train-images-idx3-ubyte.gz\n",
            "Downloading http://yann.lecun.com/exdb/mnist/train-images-idx3-ubyte.gz to ./data/MNIST/raw/train-images-idx3-ubyte.gz\n"
          ]
        },
        {
          "output_type": "stream",
          "name": "stderr",
          "text": [
            "100%|██████████| 9912422/9912422 [00:00<00:00, 74212523.98it/s]\n"
          ]
        },
        {
          "output_type": "stream",
          "name": "stdout",
          "text": [
            "Extracting ./data/MNIST/raw/train-images-idx3-ubyte.gz to ./data/MNIST/raw\n",
            "\n",
            "Downloading http://yann.lecun.com/exdb/mnist/train-labels-idx1-ubyte.gz\n",
            "Downloading http://yann.lecun.com/exdb/mnist/train-labels-idx1-ubyte.gz to ./data/MNIST/raw/train-labels-idx1-ubyte.gz\n"
          ]
        },
        {
          "output_type": "stream",
          "name": "stderr",
          "text": [
            "100%|██████████| 28881/28881 [00:00<00:00, 32157072.96it/s]"
          ]
        },
        {
          "output_type": "stream",
          "name": "stdout",
          "text": [
            "Extracting ./data/MNIST/raw/train-labels-idx1-ubyte.gz to ./data/MNIST/raw\n",
            "\n",
            "Downloading http://yann.lecun.com/exdb/mnist/t10k-images-idx3-ubyte.gz\n",
            "Downloading http://yann.lecun.com/exdb/mnist/t10k-images-idx3-ubyte.gz to ./data/MNIST/raw/t10k-images-idx3-ubyte.gz\n"
          ]
        },
        {
          "output_type": "stream",
          "name": "stderr",
          "text": [
            "\n",
            "100%|██████████| 1648877/1648877 [00:00<00:00, 25095584.60it/s]\n"
          ]
        },
        {
          "output_type": "stream",
          "name": "stdout",
          "text": [
            "Extracting ./data/MNIST/raw/t10k-images-idx3-ubyte.gz to ./data/MNIST/raw\n",
            "\n",
            "Downloading http://yann.lecun.com/exdb/mnist/t10k-labels-idx1-ubyte.gz\n",
            "Downloading http://yann.lecun.com/exdb/mnist/t10k-labels-idx1-ubyte.gz to ./data/MNIST/raw/t10k-labels-idx1-ubyte.gz\n"
          ]
        },
        {
          "output_type": "stream",
          "name": "stderr",
          "text": [
            "100%|██████████| 4542/4542 [00:00<00:00, 3660747.27it/s]"
          ]
        },
        {
          "output_type": "stream",
          "name": "stdout",
          "text": [
            "Extracting ./data/MNIST/raw/t10k-labels-idx1-ubyte.gz to ./data/MNIST/raw\n",
            "\n"
          ]
        },
        {
          "output_type": "stream",
          "name": "stderr",
          "text": [
            "\n"
          ]
        }
      ]
    },
    {
      "cell_type": "code",
      "source": [
        "# Initialize the autoencoder\n",
        "input_dim = 28 * 28  # MNIST image size\n",
        "bottleneck_dim = 5\n",
        "autoencoder = Autoencoder(input_dim, bottleneck_dim)\n",
        "\n",
        "# Define loss function and optimizer\n",
        "criterion = nn.MSELoss()\n",
        "optimizer = optim.Adam(autoencoder.parameters(), lr=0.001)\n"
      ],
      "metadata": {
        "id": "DV2g6l6iLsQM"
      },
      "execution_count": 4,
      "outputs": []
    },
    {
      "cell_type": "code",
      "source": [
        "num_epochs = 10\n",
        "\n",
        "for epoch in range(num_epochs):\n",
        "    for data in train_loader:\n",
        "        inputs, _ = data\n",
        "        inputs = inputs.view(inputs.size(0), -1)\n",
        "\n",
        "        optimizer.zero_grad()\n",
        "        outputs = autoencoder(inputs)\n",
        "        loss = criterion(outputs, inputs)\n",
        "        loss.backward()\n",
        "        optimizer.step()\n",
        "\n",
        "    print(f'Autoencoder Epoch [{epoch+1}/{num_epochs}], Loss: {loss.item():.4f}')\n"
      ],
      "metadata": {
        "colab": {
          "base_uri": "https://localhost:8080/"
        },
        "id": "M6awzr8nL2D7",
        "outputId": "216bbfbf-7fcc-4262-f65e-f7d442af06fe"
      },
      "execution_count": 5,
      "outputs": [
        {
          "output_type": "stream",
          "name": "stdout",
          "text": [
            "Autoencoder Epoch [1/10], Loss: 0.9272\n",
            "Autoencoder Epoch [2/10], Loss: 0.9284\n",
            "Autoencoder Epoch [3/10], Loss: 0.9248\n",
            "Autoencoder Epoch [4/10], Loss: 0.9256\n",
            "Autoencoder Epoch [5/10], Loss: 0.9274\n",
            "Autoencoder Epoch [6/10], Loss: 0.9238\n",
            "Autoencoder Epoch [7/10], Loss: 0.9274\n",
            "Autoencoder Epoch [8/10], Loss: 0.9231\n",
            "Autoencoder Epoch [9/10], Loss: 0.9213\n",
            "Autoencoder Epoch [10/10], Loss: 0.9230\n"
          ]
        }
      ]
    },
    {
      "cell_type": "code",
      "source": [
        "encoder_for_transfer = autoencoder.encoder\n",
        "# Initialize the classifier\n",
        "output_dim = 10  # Number of classes in MNIST\n",
        "classifier = Classifier(bottleneck_dim, output_dim)\n",
        "\n",
        "# Define the loss function and optimizer for the classification task\n",
        "classification_criterion = nn.CrossEntropyLoss()\n",
        "classification_optimizer = optim.Adam(classifier.parameters(), lr=0.001)\n"
      ],
      "metadata": {
        "id": "G6g15bxmL_wB"
      },
      "execution_count": 8,
      "outputs": []
    },
    {
      "cell_type": "code",
      "source": [
        "# Training the classifier\n",
        "num_classification_epochs = 5\n",
        "\n",
        "for epoch in range(num_classification_epochs):\n",
        "    for data in train_loader:\n",
        "        inputs, labels = data\n",
        "        inputs = inputs.view(inputs.size(0), -1)\n",
        "\n",
        "        classification_optimizer.zero_grad()\n",
        "        features = classifier.feature_extractor(inputs)\n",
        "        outputs = classifier.classifier_layer(features)\n",
        "        classification_loss = classification_criterion(outputs, labels)\n",
        "        classification_loss.backward()\n",
        "        classification_optimizer.step()\n",
        "\n",
        "    # Evaluate on validation set\n",
        "    correct = 0\n",
        "    total = 0\n",
        "    with torch.no_grad():\n",
        "        for data in val_loader:\n",
        "            inputs, labels = data\n",
        "            inputs = inputs.view(inputs.size(0), -1)\n",
        "            features = classifier.feature_extractor(inputs)\n",
        "            outputs = classifier.classifier_layer(features)\n",
        "            _, predicted = torch.max(outputs.data, 1)\n",
        "            total += labels.size(0)\n",
        "            correct += (predicted == labels).sum().item()\n",
        "\n",
        "    accuracy = correct / total\n",
        "    print(f'Epoch [{epoch+1}/{num_classification_epochs}], Classification Loss: {classification_loss.item():.4f}, Accuracy: {accuracy:.4f}')"
      ],
      "metadata": {
        "colab": {
          "base_uri": "https://localhost:8080/"
        },
        "id": "w-bM7a3aNTuL",
        "outputId": "21c178f1-fe73-49f9-8bb0-5bea70ce013e"
      },
      "execution_count": 9,
      "outputs": [
        {
          "output_type": "stream",
          "name": "stdout",
          "text": [
            "Epoch [1/5], Classification Loss: 0.3909, Accuracy: 0.8943\n",
            "Epoch [2/5], Classification Loss: 0.4768, Accuracy: 0.9327\n",
            "Epoch [3/5], Classification Loss: 0.1812, Accuracy: 0.9428\n",
            "Epoch [4/5], Classification Loss: 0.1390, Accuracy: 0.9508\n",
            "Epoch [5/5], Classification Loss: 0.1340, Accuracy: 0.9545\n"
          ]
        }
      ]
    },
    {
      "cell_type": "code",
      "source": [],
      "metadata": {
        "id": "vjBS5vbPNh5I"
      },
      "execution_count": null,
      "outputs": []
    }
  ]
}